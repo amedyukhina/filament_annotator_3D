{
 "cells": [
  {
   "cell_type": "markdown",
   "id": "dd3e09d7-9199-41f9-ad91-1051f2472840",
   "metadata": {},
   "source": [
    "### Annotation instructions:\n",
    "\n",
    "1. Rotate the image to find a position, where the filament is clearly visible\n",
    "2. Draw a line over the filament, by holding \"Control\" and dragging the mouse\n",
    "3. Rotate the image to view the filament from another angle and repeat step 2\n",
    "4. Rotate the image again: this will trigger calculating the filament position\n",
    "5. Repeat steps 1-4 for other filaments"
   ]
  },
  {
   "cell_type": "code",
   "execution_count": 1,
   "id": "4216e5af-200f-4fa9-af2a-a2f1612724d6",
   "metadata": {},
   "outputs": [],
   "source": [
    "import napari\n",
    "\n",
    "from lib.lib import *"
   ]
  },
  {
   "cell_type": "code",
   "execution_count": 2,
   "id": "1a32e806-ece3-4270-a45f-361a8e42f313",
   "metadata": {},
   "outputs": [],
   "source": [
    "output_fn = 'annotations.csv'"
   ]
  },
  {
   "cell_type": "code",
   "execution_count": 3,
   "id": "2cd7f143-c34d-4e74-ad2b-7504fb198701",
   "metadata": {},
   "outputs": [],
   "source": [
    "img = create_random_lines(100, 10)\n",
    "viewer = napari.view_image(img, ndisplay=3)\n",
    "an_layer = add_annotation_layer(viewer)\n",
    "\n",
    "near_points = []\n",
    "far_points = []\n",
    "polygons = []\n",
    "\n",
    "@an_layer.mouse_drag_callbacks.append\n",
    "def on_drag(layer, event):\n",
    "    yield\n",
    "    while event.type == 'mouse_move':\n",
    "        near_point, far_point = layer.get_ray_intersections(\n",
    "            event.position,\n",
    "            event.view_direction,\n",
    "            event.dims_displayed\n",
    "        )\n",
    "        if 'Control' in event.modifiers:\n",
    "            if (near_point is not None) and (far_point is not None):\n",
    "                near_points.append(near_point)\n",
    "                far_points.append(far_point)\n",
    "            \n",
    "            if len(near_points) > 3:\n",
    "                layer = draw_polygon(layer, near_points, far_points)\n",
    "                \n",
    "        else:\n",
    "            if len(near_points) > 0:\n",
    "                polygons.append([near_points.copy(), far_points.copy()])\n",
    "            near_points.clear()\n",
    "            far_points.clear()\n",
    "            if len(polygons) >= 2:\n",
    "                npt1 = polygons[0][0]\n",
    "                npt2 = polygons[1][0]\n",
    "                fpt1 = polygons[0][1]\n",
    "                fpt2 = polygons[1][1]\n",
    "                mt = compute_polygon_intersection(npt1, npt2, fpt1, fpt2)\n",
    "                mt = sort_points(mt)\n",
    "                layer.selected_data = set(range(layer.nshapes - 2, layer.nshapes))\n",
    "                layer.remove_selected()\n",
    "                layer.add(mt, shape_type='path', edge_color='green', edge_width=1)\n",
    "                polygons[0] = None\n",
    "                polygons[1] = None\n",
    "                polygons.clear()\n",
    "                annotation_to_pandas(layer.data[1:]).to_csv(output_fn, index=False)\n",
    "            \n",
    "        yield\n"
   ]
  },
  {
   "cell_type": "code",
   "execution_count": null,
   "id": "2cc4b9da-8f51-48ef-9852-2fd53a251740",
   "metadata": {},
   "outputs": [],
   "source": []
  },
  {
   "cell_type": "code",
   "execution_count": null,
   "id": "5dff1817-664b-4a01-957a-f459267aef40",
   "metadata": {},
   "outputs": [],
   "source": []
  }
 ],
 "metadata": {
  "kernelspec": {
   "display_name": "Python 3 (ipykernel)",
   "language": "python",
   "name": "python3"
  },
  "language_info": {
   "codemirror_mode": {
    "name": "ipython",
    "version": 3
   },
   "file_extension": ".py",
   "mimetype": "text/x-python",
   "name": "python",
   "nbconvert_exporter": "python",
   "pygments_lexer": "ipython3",
   "version": "3.9.7"
  }
 },
 "nbformat": 4,
 "nbformat_minor": 5
}
