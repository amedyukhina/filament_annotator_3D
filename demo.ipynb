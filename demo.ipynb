{
 "cells": [
  {
   "cell_type": "markdown",
   "id": "dd3e09d7-9199-41f9-ad91-1051f2472840",
   "metadata": {},
   "source": [
    "### Annotation instructions:\n",
    "\n",
    "1. Rotate the image to find a position, where the filament is clearly visible\n",
    "2. Draw a line over the filament, by holding \"Control\" and dragging the mouse: this will draw a polygon with potential filament locations\n",
    "3. Rotate the image to view the filament from another angle and repeat step 2\n",
    "4. Rotate the image again: this will calculate the filament position from the intersection of the two polygons\n",
    "5. Repeat steps 1-4 for other filaments\n",
    "\n",
    "To delete the last added shape (polygon or filament), press \"d\""
   ]
  },
  {
   "cell_type": "code",
   "execution_count": 1,
   "id": "4216e5af-200f-4fa9-af2a-a2f1612724d6",
   "metadata": {},
   "outputs": [],
   "source": [
    "import napari\n",
    "import numpy as np\n",
    "from skimage import io\n",
    "from scipy import ndimage\n",
    "\n",
    "from filament_annotation_3d.lib import *"
   ]
  },
  {
   "cell_type": "code",
   "execution_count": 2,
   "id": "1a32e806-ece3-4270-a45f-361a8e42f313",
   "metadata": {},
   "outputs": [],
   "source": [
    "output_fn = 'annotations.csv'"
   ]
  },
  {
   "cell_type": "code",
   "execution_count": 3,
   "id": "59038512-5b98-4b49-8684-dbe1deaa218b",
   "metadata": {},
   "outputs": [
    {
     "data": {
      "text/plain": [
       "(336, 556, 570)"
      ]
     },
     "execution_count": 3,
     "metadata": {},
     "output_type": "execute_result"
    }
   ],
   "source": [
    "img = io.imread('img/MeOH DMSO SR 3_0 Crop EB1-15_processed_crop.tif')\n",
    "img = ndimage.interpolation.zoom(img, zoom=[0.14/0.035, 1, 1], order=1)\n",
    "img.shape"
   ]
  },
  {
   "cell_type": "code",
   "execution_count": 4,
   "id": "2cd7f143-c34d-4e74-ad2b-7504fb198701",
   "metadata": {},
   "outputs": [
    {
     "name": "stderr",
     "output_type": "stream",
     "text": [
      "/opt/anaconda3/envs/napari-env/lib/python3.9/site-packages/numpy/core/numeric.py:2446: FutureWarning: elementwise comparison failed; returning scalar instead, but in the future will perform elementwise comparison\n",
      "  return bool(asarray(a1 == a2).all())\n"
     ]
    }
   ],
   "source": [
    "# generate two randon line images and display with napari\n",
    "viewer = napari.view_image(img, ndisplay=3) \n",
    "\n",
    "# add a layer for annotations\n",
    "an_layer = add_annotation_layer(viewer) \n",
    "\n",
    "# activate annotation of filaments\n",
    "annotate_filaments(an_layer, output_fn) "
   ]
  },
  {
   "cell_type": "code",
   "execution_count": null,
   "id": "74c2eff6-8caa-44b5-9967-74042affb637",
   "metadata": {},
   "outputs": [],
   "source": []
  }
 ],
 "metadata": {
  "kernelspec": {
   "display_name": "Python 3 (ipykernel)",
   "language": "python",
   "name": "python3"
  },
  "language_info": {
   "codemirror_mode": {
    "name": "ipython",
    "version": 3
   },
   "file_extension": ".py",
   "mimetype": "text/x-python",
   "name": "python",
   "nbconvert_exporter": "python",
   "pygments_lexer": "ipython3",
   "version": "3.9.7"
  }
 },
 "nbformat": 4,
 "nbformat_minor": 5
}
