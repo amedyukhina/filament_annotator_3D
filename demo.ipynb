{
 "cells": [
  {
   "cell_type": "markdown",
   "id": "dd3e09d7-9199-41f9-ad91-1051f2472840",
   "metadata": {},
   "source": [
    "### Annotation instructions:\n",
    "\n",
    "1. Rotate the image to find a position, where the filament is clearly visible\n",
    "2. Draw a line over the filament, by holding \"Control\" and clicking with the mouse: this will draw a polygon with potential filament locations\n",
    "3. Rotate the image to view the filament from another angle and repeat step 2\n",
    "4. Rotate the image again: this will calculate the filament position from the intersection of the two polygons\n",
    "5. Repeat steps 1-4 for other filaments\n",
    "\n",
    "To delete the last added shape (polygon or filament), press \"d\""
   ]
  },
  {
   "cell_type": "code",
   "execution_count": null,
   "id": "4216e5af-200f-4fa9-af2a-a2f1612724d6",
   "metadata": {},
   "outputs": [],
   "source": [
    "import napari\n",
    "import numpy as np\n",
    "from skimage import io\n",
    "from scipy import ndimage\n",
    "\n",
    "from filament_annotation_3d.annotator import *\n",
    "from filament_annotation_3d.utils.sim import create_random_lines"
   ]
  },
  {
   "cell_type": "code",
   "execution_count": null,
   "id": "1a32e806-ece3-4270-a45f-361a8e42f313",
   "metadata": {},
   "outputs": [],
   "source": [
    "output_fn = 'annotations.csv'"
   ]
  },
  {
   "cell_type": "code",
   "execution_count": null,
   "id": "2cd7f143-c34d-4e74-ad2b-7504fb198701",
   "metadata": {},
   "outputs": [],
   "source": [
    "# generate a randon line image and display with napari\n",
    "viewer = napari.view_image(create_random_lines(100, 10), ndisplay=3) \n",
    "\n",
    "\n",
    "# add a layer for annotations\n",
    "an_layer = add_annotation_layer(viewer) \n",
    "\n",
    "# activate annotation of filaments\n",
    "annotate_filaments(an_layer, output_fn, point_size=1,\n",
    "                   image_layer=viewer.layers[0], sigma=2., \n",
    "                   neighborhood_radius=5, decay_sigma=2.) "
   ]
  },
  {
   "cell_type": "code",
   "execution_count": null,
   "id": "9815d002-90b5-4ae9-8870-152fcbf3c18b",
   "metadata": {},
   "outputs": [],
   "source": []
  }
 ],
 "metadata": {
  "kernelspec": {
   "display_name": "Python 3 (ipykernel)",
   "language": "python",
   "name": "python3"
  },
  "language_info": {
   "codemirror_mode": {
    "name": "ipython",
    "version": 3
   },
   "file_extension": ".py",
   "mimetype": "text/x-python",
   "name": "python",
   "nbconvert_exporter": "python",
   "pygments_lexer": "ipython3",
   "version": "3.9.7"
  }
 },
 "nbformat": 4,
 "nbformat_minor": 5
}
