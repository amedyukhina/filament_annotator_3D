{
 "cells": [
  {
   "cell_type": "markdown",
   "id": "dd3e09d7-9199-41f9-ad91-1051f2472840",
   "metadata": {},
   "source": [
    "### Annotation instructions:\n",
    "\n",
    "1. Rotate the image to find a position, where the filament is clearly visible\n",
    "2. Draw a line over the filament, by holding \"Control\" and dragging the mouse: this will draw a polygon with potential filament locations\n",
    "3. Rotate the image to view the filament from another angle and repeat step 2\n",
    "4. Rotate the image again: this will calculate the filament position from the intersection of the two polygons\n",
    "5. Repeat steps 1-4 for other filaments\n",
    "\n",
    "To delete the last added shape (polygon or filament), press \"d\""
   ]
  },
  {
   "cell_type": "code",
   "execution_count": null,
   "id": "4216e5af-200f-4fa9-af2a-a2f1612724d6",
   "metadata": {},
   "outputs": [],
   "source": [
    "import napari\n",
    "\n",
    "from filament_annotator_3d.lib import *"
   ]
  },
  {
   "cell_type": "code",
   "execution_count": null,
   "id": "1a32e806-ece3-4270-a45f-361a8e42f313",
   "metadata": {},
   "outputs": [],
   "source": [
    "output_fn = 'annotations.csv'"
   ]
  },
  {
   "cell_type": "code",
   "execution_count": null,
   "id": "2cd7f143-c34d-4e74-ad2b-7504fb198701",
   "metadata": {},
   "outputs": [],
   "source": [
    "img = create_random_lines(100, 10) # create a 100x100x100 pixels image with 10 random lines\n",
    "viewer = napari.view_image(img, ndisplay=3) # display the image with napari\n",
    "an_layer = add_annotation_layer(viewer) # add a layer for annotations\n",
    "annotate_filaments(an_layer, output_fn) # activate annotation of filaments"
   ]
  },
  {
   "cell_type": "code",
   "execution_count": null,
   "id": "be6b4131-1018-4e95-a87a-b3f9e5ef82a5",
   "metadata": {},
   "outputs": [],
   "source": []
  }
 ],
 "metadata": {
  "kernelspec": {
   "display_name": "Python 3 (ipykernel)",
   "language": "python",
   "name": "python3"
  },
  "language_info": {
   "codemirror_mode": {
    "name": "ipython",
    "version": 3
   },
   "file_extension": ".py",
   "mimetype": "text/x-python",
   "name": "python",
   "nbconvert_exporter": "python",
   "pygments_lexer": "ipython3",
   "version": "3.9.7"
  }
 },
 "nbformat": 4,
 "nbformat_minor": 5
}